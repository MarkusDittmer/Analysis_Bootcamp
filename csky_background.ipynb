{
 "cells": [
  {
   "cell_type": "code",
   "execution_count": 22,
   "id": "12e562b4-544a-422a-900e-366373488a06",
   "metadata": {},
   "outputs": [],
   "source": [
    "import numpy as np\n",
    "import matplotlib.pyplot as plt\n",
    "import csky as cy\n",
    "\n",
    "timer = cy.timing.Timer()\n",
    "time = timer.time"
   ]
  },
  {
   "cell_type": "markdown",
   "id": "7f11e959-408c-447e-b9d1-3b1496e8f050",
   "metadata": {},
   "source": [
    "# Trying to make our own dataset\n",
    "\n",
    "Our data:\n",
    "- We are using QUESO Upgrade MC data /data/sim/IceCubeUpgrade/genie/level4_queso/ (120028, 121028, 140028, 141028, 160028, 161028) & /data/sim/IceCubeUpgrade/muongun/level4_queso/130028\n",
    "- These are converted into .npy files via this converter: https://github.com/mjlarson/nusources_dataset_converters/blob/main/convert_upgrade_queso.py\n",
    "\n",
    "Our references for looking up csky related stuff:\n",
    "- We used csky's tutorials GettingStarted (https://docs.icecube.aq/csky/main/01_getting_started.html) and Implementation Inspection (https://docs.icecube.aq/csky/main/06_implementation_inspection.html) as a guideline\n",
    "- We also looked at other analyses (e.g. https://github.com/icecube/wg-nu-sources/blob/main/2022_GRECO_GRB/scripts/01_get_no_prior_background_allsky_scan.py)\n"
   ]
  },
  {
   "cell_type": "markdown",
   "id": "9514d65e-37e5-4a21-900f-4ee7ec2e6e96",
   "metadata": {},
   "source": [
    "## Change keys and reformat input data"
   ]
  },
  {
   "cell_type": "code",
   "execution_count": 58,
   "id": "faad1f7f-4a63-4e7c-8200-f9e07eab980d",
   "metadata": {},
   "outputs": [],
   "source": [
    "# Reading in the signal and background files and change the keys to the correct ones --> so that csky can read it\n",
    "\n",
    "def get_signal_files(key):\n",
    "    dir = \"/data/user/bschlueter/software/nusources_dataset_converters/data/queso_\"+str(key)+\".npy\"\n",
    "    sig = np.load(dir)\n",
    "    sig = np.hstack(sig)\n",
    "    sig_upgraded = np.lib.recfunctions.rename_fields(sig, {'ow': 'oneweight','trueE':'true_energy'})\n",
    "    sig_upgraded = sig_upgraded.view(np.recarray)\n",
    "    return sig_upgraded\n",
    "\n",
    "#Background\n",
    "bg_filename = \"/data/user/bschlueter/software/nusources_dataset_converters/data/muongun_131028.npy\"\n",
    "bg = np.load(bg_filename)\n",
    "bg_upgraded = np.lib.recfunctions.rename_fields(bg, {'atmo_weight': 'weight'})\n",
    "bg_upgraded = bg_upgraded.view(np.recarray)"
   ]
  },
  {
   "cell_type": "code",
   "execution_count": 48,
   "id": "982ac4b3-a19b-45b0-8f13-57e0f6328642",
   "metadata": {},
   "outputs": [],
   "source": [
    "live = 8*60*60\n",
    "keys = ['120028','121028','140028','141028','160028','161028']\n",
    "Dataset = []\n",
    "for key in keys:  \n",
    "    Dataset.append(cy.selections.Dataset(key = key,livetime=live, sig= get_signal_files(key), bg = bg_upgraded))"
   ]
  },
  {
   "cell_type": "code",
   "execution_count": 49,
   "id": "e0c49861-4ec7-43c5-be79-e4be3be4cc13",
   "metadata": {},
   "outputs": [
    {
     "data": {
      "text/plain": [
       "[Dataset('120028', livetime = 28800s) with  and 0.0006169195555999903 expected bg events and sum(ow*E^-2) = 1.60,\n",
       " Dataset('121028', livetime = 28800s) with  and 0.0006169195555999903 expected bg events and sum(ow*E^-2) = 0.41,\n",
       " Dataset('140028', livetime = 28800s) with  and 0.0006169195555999903 expected bg events and sum(ow*E^-2) = 1.46,\n",
       " Dataset('141028', livetime = 28800s) with  and 0.0006169195555999903 expected bg events and sum(ow*E^-2) = 1.47,\n",
       " Dataset('160028', livetime = 28800s) with  and 0.0006169195555999903 expected bg events and sum(ow*E^-2) = 1.02,\n",
       " Dataset('161028', livetime = 28800s) with  and 0.0006169195555999903 expected bg events and sum(ow*E^-2) = 0.50]"
      ]
     },
     "execution_count": 49,
     "metadata": {},
     "output_type": "execute_result"
    }
   ],
   "source": [
    "Dataset"
   ]
  },
  {
   "cell_type": "markdown",
   "id": "4e65372c-e1b9-44b7-8d01-721bf5d5d687",
   "metadata": {},
   "source": [
    "Since we don't have data to input, we are missing 'with XXX data events and ...' in the output"
   ]
  },
  {
   "cell_type": "code",
   "execution_count": 50,
   "id": "7fa56e86-a5bd-43e2-aff4-daa533b2a452",
   "metadata": {},
   "outputs": [
    {
     "name": "stdout",
     "output_type": "stream",
     "text": [
      "Setting up Analysis for:\n",
      "\n",
      "Done.\n",
      "\n",
      "0:00:00.000527 elapsed.\n"
     ]
    }
   ],
   "source": [
    "with time('ana setup (from scratch)'):\n",
    "    ana = cy.get_analysis(cy.selections.repo,spec = Dataset)"
   ]
  },
  {
   "cell_type": "markdown",
   "id": "b02fd426-67d4-44e2-99c2-1b55af9755cb",
   "metadata": {},
   "source": [
    "## Try to do anything with it"
   ]
  },
  {
   "cell_type": "code",
   "execution_count": 55,
   "id": "fc37333b-9661-4624-b627-568b3c9e6533",
   "metadata": {},
   "outputs": [],
   "source": [
    "cy.CONF['ana'] = ana\n",
    "cy.CONF['mp_cpus'] = 3\n",
    "\n",
    "src = cy.sources(180, 0, deg=True)\n",
    "tr = cy.get_trial_runner(src=src)"
   ]
  },
  {
   "cell_type": "code",
   "execution_count": 54,
   "id": "0ebab973-248f-4cb5-a578-d55f9fb902dc",
   "metadata": {},
   "outputs": [
    {
     "name": "stdout",
     "output_type": "stream",
     "text": [
      "Performing 1 background trials using 1 core:\n",
      "          0/1 trials complete..."
     ]
    },
    {
     "ename": "IndexError",
     "evalue": "list index out of range",
     "output_type": "error",
     "traceback": [
      "\u001b[0;31m---------------------------------------------------------------------------\u001b[0m",
      "\u001b[0;31mIndexError\u001b[0m                                Traceback (most recent call last)",
      "\u001b[0;32m<ipython-input-54-e96705cd6e30>\u001b[0m in \u001b[0;36m<module>\u001b[0;34m\u001b[0m\n\u001b[0;32m----> 1\u001b[0;31m \u001b[0mbg\u001b[0m \u001b[0;34m=\u001b[0m \u001b[0mcy\u001b[0m\u001b[0;34m.\u001b[0m\u001b[0mdists\u001b[0m\u001b[0;34m.\u001b[0m\u001b[0mChi2TSD\u001b[0m\u001b[0;34m(\u001b[0m\u001b[0mtr\u001b[0m\u001b[0;34m.\u001b[0m\u001b[0mget_many_fits\u001b[0m\u001b[0;34m(\u001b[0m\u001b[0;36m1\u001b[0m\u001b[0;34m)\u001b[0m\u001b[0;34m)\u001b[0m\u001b[0;34m\u001b[0m\u001b[0;34m\u001b[0m\u001b[0m\n\u001b[0m",
      "\u001b[0;32m/mnt/ceph1-npx/user/mdittmer/software/csky/csky/trial.py\u001b[0m in \u001b[0;36mget_many_fits\u001b[0;34m(self, n_trials, n_sig, poisson, seed, mp_cpus, logging, **fitter_args)\u001b[0m\n\u001b[1;32m    373\u001b[0m             return self._get_some_fits(\n\u001b[1;32m    374\u001b[0m                 \u001b[0mn_trials\u001b[0m\u001b[0;34m=\u001b[0m\u001b[0mn_trials\u001b[0m\u001b[0;34m,\u001b[0m \u001b[0mseeds\u001b[0m\u001b[0;34m=\u001b[0m\u001b[0mseeds\u001b[0m\u001b[0;34m,\u001b[0m \u001b[0mn_sig\u001b[0m\u001b[0;34m=\u001b[0m\u001b[0mn_sig\u001b[0m\u001b[0;34m,\u001b[0m \u001b[0mpoisson\u001b[0m\u001b[0;34m=\u001b[0m\u001b[0mpoisson\u001b[0m\u001b[0;34m,\u001b[0m\u001b[0;34m\u001b[0m\u001b[0;34m\u001b[0m\u001b[0m\n\u001b[0;32m--> 375\u001b[0;31m                 logging=logging, **fitter_args)\n\u001b[0m\u001b[1;32m    376\u001b[0m         \u001b[0;32melse\u001b[0m\u001b[0;34m:\u001b[0m\u001b[0;34m\u001b[0m\u001b[0;34m\u001b[0m\u001b[0m\n\u001b[1;32m    377\u001b[0m             \u001b[0;31m# set up _get_some_fits arguments\u001b[0m\u001b[0;34m\u001b[0m\u001b[0;34m\u001b[0m\u001b[0;34m\u001b[0m\u001b[0m\n",
      "\u001b[0;32m/mnt/ceph1-npx/user/mdittmer/software/csky/csky/trial.py\u001b[0m in \u001b[0;36m_get_some_fits\u001b[0;34m(self, n_trials, seeds, n_sig, poisson, queue, i_job, progress, logging, **kw)\u001b[0m\n\u001b[1;32m    326\u001b[0m                 \u001b[0;32mif\u001b[0m \u001b[0mi\u001b[0m \u001b[0;34m%\u001b[0m \u001b[0;36m10\u001b[0m \u001b[0;34m==\u001b[0m \u001b[0;36m0\u001b[0m\u001b[0;34m:\u001b[0m\u001b[0;34m\u001b[0m\u001b[0;34m\u001b[0m\u001b[0m\n\u001b[1;32m    327\u001b[0m                     \u001b[0mlog_trials\u001b[0m\u001b[0;34m(\u001b[0m\u001b[0mi\u001b[0m\u001b[0;34m,\u001b[0m \u001b[0mn_trials\u001b[0m\u001b[0;34m)\u001b[0m\u001b[0;34m\u001b[0m\u001b[0;34m\u001b[0m\u001b[0m\n\u001b[0;32m--> 328\u001b[0;31m                 \u001b[0mfit\u001b[0m \u001b[0;34m=\u001b[0m \u001b[0mself\u001b[0m\u001b[0;34m.\u001b[0m\u001b[0mget_one_fit\u001b[0m\u001b[0;34m(\u001b[0m\u001b[0mn_sig\u001b[0m\u001b[0;34m=\u001b[0m\u001b[0mn_sig\u001b[0m\u001b[0;34m,\u001b[0m \u001b[0mpoisson\u001b[0m\u001b[0;34m=\u001b[0m\u001b[0mpoisson\u001b[0m\u001b[0;34m,\u001b[0m \u001b[0mseed\u001b[0m\u001b[0;34m=\u001b[0m\u001b[0mseeds\u001b[0m\u001b[0;34m[\u001b[0m\u001b[0mi\u001b[0m\u001b[0;34m]\u001b[0m\u001b[0;34m,\u001b[0m \u001b[0;34m**\u001b[0m\u001b[0mkw\u001b[0m\u001b[0;34m)\u001b[0m\u001b[0;34m\u001b[0m\u001b[0;34m\u001b[0m\u001b[0m\n\u001b[0m\u001b[1;32m    329\u001b[0m                 \u001b[0mfit\u001b[0m\u001b[0;34m.\u001b[0m\u001b[0mappend\u001b[0m\u001b[0;34m(\u001b[0m\u001b[0mseeds\u001b[0m\u001b[0;34m[\u001b[0m\u001b[0mi\u001b[0m\u001b[0;34m]\u001b[0m\u001b[0;34m)\u001b[0m\u001b[0;34m\u001b[0m\u001b[0;34m\u001b[0m\u001b[0m\n\u001b[1;32m    330\u001b[0m                 \u001b[0mfits\u001b[0m\u001b[0;34m.\u001b[0m\u001b[0mappend\u001b[0m\u001b[0;34m(\u001b[0m\u001b[0mfit\u001b[0m\u001b[0;34m)\u001b[0m\u001b[0;34m\u001b[0m\u001b[0;34m\u001b[0m\u001b[0m\n",
      "\u001b[0;32m/mnt/ceph1-npx/user/mdittmer/software/csky/csky/trial.py\u001b[0m in \u001b[0;36mget_one_fit\u001b[0;34m(self, n_sig, poisson, seed, TRUTH, flat, **fitter_args)\u001b[0m\n\u001b[1;32m    305\u001b[0m         evss_ns_excluded_tuple = self.get_one_trial(\n\u001b[1;32m    306\u001b[0m             n_sig=n_sig, poisson=poisson, seed=seed, TRUTH=TRUTH)\n\u001b[0;32m--> 307\u001b[0;31m         \u001b[0;32mreturn\u001b[0m \u001b[0mself\u001b[0m\u001b[0;34m.\u001b[0m\u001b[0mget_one_fit_from_trial\u001b[0m\u001b[0;34m(\u001b[0m\u001b[0mevss_ns_excluded_tuple\u001b[0m\u001b[0;34m,\u001b[0m \u001b[0mflat\u001b[0m\u001b[0;34m=\u001b[0m\u001b[0mflat\u001b[0m\u001b[0;34m,\u001b[0m \u001b[0;34m**\u001b[0m\u001b[0mfitter_args\u001b[0m\u001b[0;34m)\u001b[0m\u001b[0;34m\u001b[0m\u001b[0;34m\u001b[0m\u001b[0m\n\u001b[0m\u001b[1;32m    308\u001b[0m \u001b[0;34m\u001b[0m\u001b[0m\n\u001b[1;32m    309\u001b[0m     \u001b[0;32mdef\u001b[0m \u001b[0m_log_trials\u001b[0m\u001b[0;34m(\u001b[0m\u001b[0mself\u001b[0m\u001b[0;34m,\u001b[0m \u001b[0mn_complete\u001b[0m\u001b[0;34m,\u001b[0m \u001b[0mn_total\u001b[0m\u001b[0;34m,\u001b[0m \u001b[0mdone\u001b[0m\u001b[0;34m=\u001b[0m\u001b[0;32mFalse\u001b[0m\u001b[0;34m)\u001b[0m\u001b[0;34m:\u001b[0m\u001b[0;34m\u001b[0m\u001b[0;34m\u001b[0m\u001b[0m\n",
      "\u001b[0;32m/mnt/ceph1-npx/user/mdittmer/software/csky/csky/trial.py\u001b[0m in \u001b[0;36mget_one_fit_from_trial\u001b[0;34m(self, evss_ns_excluded_tuple, flat, **fitter_args)\u001b[0m\n\u001b[1;32m    855\u001b[0m     \u001b[0;32mdef\u001b[0m \u001b[0mget_one_fit_from_trial\u001b[0m\u001b[0;34m(\u001b[0m\u001b[0mself\u001b[0m\u001b[0;34m,\u001b[0m \u001b[0mevss_ns_excluded_tuple\u001b[0m\u001b[0;34m,\u001b[0m \u001b[0mflat\u001b[0m\u001b[0;34m=\u001b[0m\u001b[0;32mTrue\u001b[0m\u001b[0;34m,\u001b[0m \u001b[0;34m**\u001b[0m\u001b[0mfitter_args\u001b[0m\u001b[0;34m)\u001b[0m\u001b[0;34m:\u001b[0m\u001b[0;34m\u001b[0m\u001b[0;34m\u001b[0m\u001b[0m\n\u001b[1;32m    856\u001b[0m         \u001b[0mevss\u001b[0m\u001b[0;34m,\u001b[0m \u001b[0mns_excluded\u001b[0m \u001b[0;34m=\u001b[0m \u001b[0mevss_ns_excluded_tuple\u001b[0m\u001b[0;34m\u001b[0m\u001b[0;34m\u001b[0m\u001b[0m\n\u001b[0;32m--> 857\u001b[0;31m         \u001b[0mllh\u001b[0m \u001b[0;34m=\u001b[0m \u001b[0mself\u001b[0m\u001b[0;34m.\u001b[0m\u001b[0mget_one_llh_from_trial\u001b[0m\u001b[0;34m(\u001b[0m\u001b[0;34m(\u001b[0m\u001b[0mevss\u001b[0m\u001b[0;34m,\u001b[0m \u001b[0mns_excluded\u001b[0m\u001b[0;34m)\u001b[0m\u001b[0;34m)\u001b[0m\u001b[0;34m\u001b[0m\u001b[0;34m\u001b[0m\u001b[0m\n\u001b[0m\u001b[1;32m    858\u001b[0m         \u001b[0mkw\u001b[0m \u001b[0;34m=\u001b[0m \u001b[0mfitter_args\u001b[0m\u001b[0;34m\u001b[0m\u001b[0;34m\u001b[0m\u001b[0m\n\u001b[1;32m    859\u001b[0m         \u001b[0;32mfor\u001b[0m \u001b[0mk\u001b[0m \u001b[0;32min\u001b[0m \u001b[0mself\u001b[0m\u001b[0;34m.\u001b[0m\u001b[0mfitter_args\u001b[0m\u001b[0;34m:\u001b[0m\u001b[0;34m\u001b[0m\u001b[0;34m\u001b[0m\u001b[0m\n",
      "\u001b[0;32m/mnt/ceph1-npx/user/mdittmer/software/csky/csky/trial.py\u001b[0m in \u001b[0;36mget_one_llh_from_trial\u001b[0;34m(self, evss_ns_excluded_tuple)\u001b[0m\n\u001b[1;32m    839\u001b[0m             \u001b[0;32mreturn\u001b[0m \u001b[0mllh\u001b[0m\u001b[0;34m.\u001b[0m\u001b[0mMultiLLHEvaluator\u001b[0m\u001b[0;34m(\u001b[0m\u001b[0mllhs\u001b[0m\u001b[0;34m)\u001b[0m\u001b[0;34m\u001b[0m\u001b[0;34m\u001b[0m\u001b[0m\n\u001b[1;32m    840\u001b[0m         \u001b[0;32melse\u001b[0m\u001b[0;34m:\u001b[0m\u001b[0;34m\u001b[0m\u001b[0;34m\u001b[0m\u001b[0m\n\u001b[0;32m--> 841\u001b[0;31m             \u001b[0;32mreturn\u001b[0m \u001b[0mllh_models\u001b[0m\u001b[0;34m[\u001b[0m\u001b[0;36m0\u001b[0m\u001b[0;34m]\u001b[0m\u001b[0;34m(\u001b[0m\u001b[0mevss\u001b[0m\u001b[0;34m[\u001b[0m\u001b[0;36m0\u001b[0m\u001b[0;34m]\u001b[0m\u001b[0;34m,\u001b[0m \u001b[0mns_excluded\u001b[0m\u001b[0;34m[\u001b[0m\u001b[0;36m0\u001b[0m\u001b[0;34m]\u001b[0m\u001b[0;34m)\u001b[0m\u001b[0;34m\u001b[0m\u001b[0;34m\u001b[0m\u001b[0m\n\u001b[0m\u001b[1;32m    842\u001b[0m \u001b[0;34m\u001b[0m\u001b[0m\n\u001b[1;32m    843\u001b[0m     \u001b[0;32mdef\u001b[0m \u001b[0mget_one_llh\u001b[0m\u001b[0;34m(\u001b[0m\u001b[0mself\u001b[0m\u001b[0;34m,\u001b[0m \u001b[0mn_sig\u001b[0m\u001b[0;34m=\u001b[0m\u001b[0;36m0\u001b[0m\u001b[0;34m,\u001b[0m \u001b[0mpoisson\u001b[0m\u001b[0;34m=\u001b[0m\u001b[0;32mFalse\u001b[0m\u001b[0;34m,\u001b[0m \u001b[0mseed\u001b[0m\u001b[0;34m=\u001b[0m\u001b[0;32mNone\u001b[0m\u001b[0;34m,\u001b[0m \u001b[0mTRUTH\u001b[0m\u001b[0;34m=\u001b[0m\u001b[0;32mFalse\u001b[0m\u001b[0;34m)\u001b[0m\u001b[0;34m:\u001b[0m\u001b[0;34m\u001b[0m\u001b[0;34m\u001b[0m\u001b[0m\n",
      "\u001b[0;31mIndexError\u001b[0m: list index out of range"
     ]
    }
   ],
   "source": [
    "bg = cy.dists.Chi2TSD(tr.get_many_fits(1))"
   ]
  },
  {
   "cell_type": "markdown",
   "id": "ecd0ca2f-aa0c-45b0-b4a7-929c455f0eb2",
   "metadata": {},
   "source": [
    "# Fake GRL in case it is needed"
   ]
  },
  {
   "cell_type": "code",
   "execution_count": 57,
   "id": "20dad427-fc05-41d4-9efb-b6a2e8e9a246",
   "metadata": {},
   "outputs": [
    {
     "data": {
      "text/plain": [
       "array([(135328, 60369.        , 60369.33333333, 0.33333333, 4),\n",
       "       (135329, 60369.33333333, 60369.66666667, 0.33333333, 4),\n",
       "       (135330, 60369.66666667, 60370.        , 0.33333333, 4), ...,\n",
       "       (137326, 61035.        , 61035.33333334, 0.33333333, 4),\n",
       "       (137327, 61035.33333334, 61035.66666667, 0.33333333, 4),\n",
       "       (137328, 61035.66666667, 61036.        , 0.33333333, 4)],\n",
       "      dtype=[('run', '<i8'), ('start', '<f8'), ('stop', '<f8'), ('livetime', '<f8'), ('events', '<i8')])"
      ]
     },
     "execution_count": 57,
     "metadata": {},
     "output_type": "execute_result"
    }
   ],
   "source": [
    "#fake GRL \n",
    "current_mjd = 60369\n",
    "runstart = 135328\n",
    "run_duration = 1/3 #8h\n",
    "nr_runs = 2000\n",
    "background_event_rate = 4.587 #calculated in Greco_vs_Queso.ipynb\n",
    "\n",
    "new_grl_entries = []\n",
    "dtype = [('run', int), ('start', np.float64), ('stop', np.float64), ('livetime', np.float64), ('events', int)]\n",
    "for i in range(runstart, runstart+nr_runs+1):\n",
    "    new_grl_entries.append((i, current_mjd, current_mjd + run_duration, run_duration, background_event_rate))\n",
    "    current_mjd += run_duration\n",
    "\n",
    "grl = np.array(new_grl_entries, dtype=dtype)\n",
    "grl"
   ]
  }
 ],
 "metadata": {
  "kernelspec": {
   "display_name": "csky",
   "language": "python",
   "name": "csky"
  },
  "language_info": {
   "codemirror_mode": {
    "name": "ipython",
    "version": 3
   },
   "file_extension": ".py",
   "mimetype": "text/x-python",
   "name": "python",
   "nbconvert_exporter": "python",
   "pygments_lexer": "ipython3",
   "version": "3.6.8"
  }
 },
 "nbformat": 4,
 "nbformat_minor": 5
}
