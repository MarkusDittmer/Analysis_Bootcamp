{
 "cells": [
  {
   "cell_type": "code",
   "execution_count": 1,
   "id": "0264483e-c919-48e7-bda9-8602a17a3b6c",
   "metadata": {},
   "outputs": [
    {
     "name": "stderr",
     "output_type": "stream",
     "text": [
      "WARNING: IERSStaleWarning: leap-second file is expired. [astropy.utils.iers.iers]\n"
     ]
    }
   ],
   "source": [
    "import numpy as np\n",
    "import matplotlib.pyplot as plt\n",
    "import csky as cy\n",
    "import os\n",
    "import histlite as hl\n",
    "\n",
    "timer = cy.timing.Timer()\n",
    "time = timer.time"
   ]
  },
  {
   "cell_type": "markdown",
   "id": "61ef77b2-29f9-4c98-91f7-8ebdb159210c",
   "metadata": {},
   "source": [
    "# How should the fake data look like?\n",
    "We probably need to rename and add a few keys in the long run"
   ]
  },
  {
   "cell_type": "code",
   "execution_count": 2,
   "id": "b9ffc094-783f-4c4b-b2f6-cea81bba8565",
   "metadata": {},
   "outputs": [
    {
     "name": "stdout",
     "output_type": "stream",
     "text": [
      "Comparing GRECO data and Signal\n",
      "Common Keys: {'monopod_ra', 'azi', 'run', 'cascade_energy', 'monopod_azi', 'ra', 'angErr', 'dec', 'event', 'nchannel', 'monopod_pegleg_dpsi', 'pidPeglegLLH', 'monopod_dec', 'subevent', 'logE', 'angErr_noCorrection', 'time', 'nstring', 'zen', 'index', 'monopod_zen', 'pidMonopodLLH', 'pidDeltaLLH', 'pidLength'}\n",
      "Additional keys that sig has: {'ow', 'ptype', 'uncorrected_ow', 'genie_gen_r', 'trueRa', 'trueDec', 'iscc', 'trueE', 'prompt', 'conv', 'astro', 'genie_gen_z'}\n",
      "\n",
      "Comparing GRECO data and QUESO MC\n",
      "Common Keys: {'logE', 'dec', 'run', 'time', 'event', 'subevent', 'ra'}\n",
      "Additional keys that GRECO sig has: {'monopod_ra', 'azi', 'angErr_noCorrection', 'pidPeglegLLH', 'monopod_dec', 'nchannel', 'nstring', 'zen', 'cascade_energy', 'index', 'monopod_azi', 'monopod_zen', 'pidMonopodLLH', 'monopod_pegleg_dpsi', 'angErr', 'pidDeltaLLH', 'pidLength'}\n",
      "Additional keys that QUESO has: {'SplitInIcePulses_dynedge_v2_PulsesUpgradeHitMultiplicity.n_hit_pmts', 'L4_separation_in_cogs', 'ow', 'graphnet_dynedge_energy_reconstruction_energy_pred', 'graphnet_dynedge_zenith_reconstruction_zenith_kappa', 'trueZen', 'graphnet_dynedge_direction_reconstruction_direction_kappa', 'graphnet_dynedge_track_classification_track_pred', 'trueRa', 'trueDec', 'SplitInIcePulses_dynedge_v2_PulsesUpgradeHitMultiplicity.n_hit_strings', 'trueAzi', 'atmo_weight', 'trueE', 'interaction', 'sigma'}\n",
      "\n",
      "Comparing GRECO sig and QUESO MC\n",
      "Common Keys: {'logE', 'dec', 'run', 'ow', 'time', 'event', 'trueRa', 'trueDec', 'subevent', 'ra', 'trueE'}\n",
      "Additional keys that GRECO sig has: {'monopod_ra', 'azi', 'cascade_energy', 'monopod_azi', 'conv', 'angErr', 'ptype', 'nchannel', 'monopod_pegleg_dpsi', 'astro', 'uncorrected_ow', 'pidPeglegLLH', 'monopod_dec', 'genie_gen_r', 'prompt', 'genie_gen_z', 'angErr_noCorrection', 'nstring', 'zen', 'index', 'monopod_zen', 'pidMonopodLLH', 'iscc', 'pidDeltaLLH', 'pidLength'}\n",
      "Additional keys that QUESO has: {'SplitInIcePulses_dynedge_v2_PulsesUpgradeHitMultiplicity.n_hit_pmts', 'L4_separation_in_cogs', 'graphnet_dynedge_energy_reconstruction_energy_pred', 'graphnet_dynedge_direction_reconstruction_direction_kappa', 'graphnet_dynedge_zenith_reconstruction_zenith_kappa', 'trueZen', 'graphnet_dynedge_track_classification_track_pred', 'SplitInIcePulses_dynedge_v2_PulsesUpgradeHitMultiplicity.n_hit_strings', 'trueAzi', 'atmo_weight', 'interaction', 'sigma'}\n"
     ]
    }
   ],
   "source": [
    "sig = np.load('/data/ana/analyses/greco_online/version-002-p12/IC86_2012.nue_merged.npy')\n",
    "data = np.load('/data/ana/analyses/greco_online/version-002-p12/IC86_2012.data.npy')\n",
    "queso = np.load(\"/home/mdittmer/Basics/ConvertedQuesoFiles_new/queso_120028.npy\")\n",
    "\n",
    "\n",
    "# Get the keys of the dtype fields\n",
    "keys1 = set(sig.dtype.names)\n",
    "keys2 = set(data.dtype.names)\n",
    "\n",
    "# Find common keys\n",
    "common_keys = keys1.intersection(keys2)\n",
    "\n",
    "# Print results\n",
    "print(\"Comparing GRECO data and Signal\")\n",
    "print(\"Common Keys:\", common_keys)\n",
    "print(\"Additional keys that sig has:\", keys1 - keys2)\n",
    "#print(\"Additional keys that data has:\", keys2 - keys1)\n",
    "\n",
    "\n",
    "\n",
    "# Print results\n",
    "print()\n",
    "print(\"Comparing GRECO data and QUESO MC\")\n",
    "keys1 = set(data.dtype.names)\n",
    "keys2 = set(queso.dtype.names)\n",
    "print(\"Common Keys:\", keys1.intersection(keys2))\n",
    "print(\"Additional keys that GRECO sig has:\", keys1 - keys2)\n",
    "print(\"Additional keys that QUESO has:\", keys2 - keys1)\n",
    "\n",
    "# Print results\n",
    "print()\n",
    "print(\"Comparing GRECO sig and QUESO MC\")\n",
    "keys1 = set(sig.dtype.names)\n",
    "keys2 = set(queso.dtype.names)\n",
    "print(\"Common Keys:\", keys1.intersection(keys2))\n",
    "print(\"Additional keys that GRECO sig has:\", keys1 - keys2)\n",
    "print(\"Additional keys that QUESO has:\", keys2 - keys1)"
   ]
  },
  {
   "cell_type": "markdown",
   "id": "f91d7d4d-8914-4ae1-a959-d526a735a6ca",
   "metadata": {},
   "source": [
    "# Read in QUESO MC"
   ]
  },
  {
   "cell_type": "code",
   "execution_count": 4,
   "id": "29061a31-cae0-40a3-a41a-7d7fbe1e52a8",
   "metadata": {},
   "outputs": [],
   "source": [
    "path = \"/home/mdittmer/Basics/ConvertedQuesoFiles_new/\"\n",
    "prefix = \"queso_\"\n",
    "\n",
    "queso_e = np.load(path + prefix + \"120028.npy\")\n",
    "queso_ebar = np.load(path + prefix + \"121028.npy\")\n",
    "queso_mu = np.load(path + prefix + \"140028.npy\")\n",
    "queso_mubar = np.load(path + prefix + \"141028.npy\")\n",
    "queso_tau = np.load(path + prefix + \"160028.npy\")\n",
    "queso_taubar = np.load(path + prefix + \"161028.npy\")\n",
    "queso_muongun = np.load(\"/home/mdittmer/Basics/ConvertedQuesoFiles_new/muongun_131028.npy\")\n",
    "\n",
    "ArraysToBeUsed = [queso_e, queso_ebar, queso_mu, queso_mubar, queso_tau, queso_taubar, queso_muongun]\n",
    "del queso_e, queso_ebar, queso_mu, queso_mubar, queso_tau, queso_taubar, queso_muongun\n",
    "\n",
    "\n",
    "# Remove 'interaction' field from each array since muongun does not have that key\n",
    "fields_to_drop = ['interaction']\n",
    "\n",
    "#Remove all keys normally not present in a data file...will be done if needed\n",
    "#fields_to_drop = ['interaction','trueE', 'trueRa', 'ow', 'genie_gen_z', 'iscc', 'uncorrected_ow', 'astro', 'ptype', 'genie_gen_r', 'conv', 'prompt', 'trueDec']\n",
    "\n",
    "#Rename QUESO keys...will be done later if needed\n",
    "#key_mapping = {'old_key1': 'new_key1', 'old_key2': 'new_key2', 'old_key3': 'new_key3'}\n",
    "\n",
    "cache = []\n",
    "for e in ArraysToBeUsed:\n",
    "    modified_array = np.lib.recfunctions.drop_fields(e, fields_to_drop) \n",
    "    #modified_array = np.lib.recfunctions.rename_fields(queso_e, key_mapping)\n",
    "    cache.append(modified_array)\n",
    "ArraysToBeUsed = cache"
   ]
  },
  {
   "cell_type": "markdown",
   "id": "9842c33f-47ff-4af1-a4f0-403d1d295f85",
   "metadata": {},
   "source": [
    "# Sample from QUESO interaction type weights for a given livetime and store new numpy array\n",
    "Iterate over each line in each MC file. Poisson sample from expected events in 3 years. Repeat line x amount of times. Store in new .npy array"
   ]
  },
  {
   "cell_type": "code",
   "execution_count": 169,
   "id": "3fece765-eb8a-41cd-b379-08216970c086",
   "metadata": {},
   "outputs": [
    {
     "name": "stdout",
     "output_type": "stream",
     "text": [
      "Going over new interaction type...\n",
      "Sampled events: \t 136776\n",
      "Expected events: \t 136157.10228359865\n",
      "\n",
      "Going over new interaction type...\n",
      "Sampled events: \t 26234\n",
      "Expected events: \t 26289.72202428914\n",
      "\n",
      "Going over new interaction type...\n",
      "Sampled events: \t 278203\n",
      "Expected events: \t 277813.4032661558\n",
      "\n",
      "Going over new interaction type...\n",
      "Sampled events: \t 243747\n",
      "Expected events: \t 243149.97034069744\n",
      "\n",
      "Going over new interaction type...\n",
      "Sampled events: \t 20013\n",
      "Expected events: \t 20036.289071908468\n",
      "\n",
      "Going over new interaction type...\n",
      "Sampled events: \t 7260\n",
      "Expected events: \t 7266.33268306121\n",
      "\n",
      "Going over new interaction type...\n",
      "Sampled events: \t 58155\n",
      "Expected events: \t 58365.52531620389\n",
      "\n",
      "Total events stored:  770388\n"
     ]
    }
   ],
   "source": [
    "import numpy as np\n",
    "\n",
    "Livetime = 3 * 365 * 24 * 60 * 60  # 3 years\n",
    "\n",
    "# Initialize List to hold sampled events\n",
    "storage_list = []\n",
    "\n",
    "# Iterate over datasets of each interaction type\n",
    "for dataset in ArraysToBeUsed:\n",
    "    counter = 0\n",
    "    print(\"Going over new interaction type...\")\n",
    "    \n",
    "    # Initialize List for current interaction type\n",
    "    current_type_list = []\n",
    "\n",
    "    for event in dataset:\n",
    "        # Sample how many times an event (the current row of the interaction type MC) will be present\n",
    "        Sampled_nr = np.random.poisson(event[\"atmo_weight\"] * Livetime)\n",
    "\n",
    "        if Sampled_nr == 0:\n",
    "            continue\n",
    "\n",
    "        # Store the context of this row Sampled_nr-amount of times in a list\n",
    "        currentrow = np.repeat(event, Sampled_nr)\n",
    "        current_type_list.append(currentrow)\n",
    "\n",
    "        # Count total sampled events over the entire livetime for cross-checking\n",
    "        counter += Sampled_nr\n",
    "\n",
    "    # Concatenate all arrays for the current interaction type\n",
    "    current_type_array = np.concatenate(current_type_list)\n",
    "\n",
    "    # Append the current interaction type array to the overall list\n",
    "    storage_list.append(current_type_array)\n",
    "\n",
    "    print(\"Sampled events: \\t\", counter)\n",
    "    print(\"Expected events: \\t\", sum(dataset['atmo_weight'] * Livetime))\n",
    "    print()\n",
    "\n",
    "# Concatenate all arrays for different interaction types\n",
    "Storage = np.concatenate(storage_list)\n",
    "print(\"Total events sampled: \", len(Storage))\n",
    "\n",
    "#Randomize order and save\n",
    "Shuffled_Array = np.random.permutation(Storage)\n",
    "np.save('Queso_Fakedata_3Years.npy', Storage)\n"
   ]
  },
  {
   "cell_type": "markdown",
   "id": "24cf187d-674e-443f-b746-446515f3e636",
   "metadata": {},
   "source": [
    "# Cross-checks\n",
    "The fake data should have similar distributions as the original MC data? With statistical fluctuation of course."
   ]
  },
  {
   "cell_type": "code",
   "execution_count": 5,
   "id": "87996e9f-e649-44c3-ba5a-0ce24515ca2a",
   "metadata": {},
   "outputs": [
    {
     "data": {
      "image/png": "[encoded data removed]",
      "text/plain": [
       "<Figure size 432x288 with 1 Axes>"
      ]
     },
     "metadata": {
      "needs_background": "light"
     },
     "output_type": "display_data"
    },
    {
     "data": {
      "image/png": "[encoded data removed]",
      "text/plain": [
       "<Figure size 432x288 with 1 Axes>"
      ]
     },
     "metadata": {
      "needs_background": "light"
     },
     "output_type": "display_data"
    },
    {
     "data": {
      "image/png": "[encoded data removed]",
      "text/plain": [
       "<Figure size 432x288 with 1 Axes>"
      ]
     },
     "metadata": {
      "needs_background": "light"
     },
     "output_type": "display_data"
    }
   ],
   "source": [
    "MC_data = np.concatenate(ArraysToBeUsed, axis=0)\n",
    "Fake_data = np.load('/home/mdittmer/csky/Queso_Fakedata_3Years.npy')\n",
    "\n",
    "# Make basic histograms for a few keys\n",
    "KeysToCheck = ['logE', 'ra', 'dec']\n",
    "for key in KeysToCheck:\n",
    "    plt.figure()\n",
    "    plt.title(key)\n",
    "    plt.hist(MC_data[key]  ,bins=100,color='tab:blue',label='MC',alpha=0.5)\n",
    "    plt.hist(Fake_data[key],bins=100,color='tab:red',label='Sampled fake data',alpha=0.5)\n",
    "    plt.legend()\n",
    "    plt.show()"
   ]
  },
  {
   "cell_type": "markdown",
   "id": "e0c6ca8c-c168-4b1c-accb-0362a22a99e2",
   "metadata": {},
   "source": [
    "How does this look for GRECO?"
   ]
  },
  {
   "cell_type": "code",
   "execution_count": 6,
   "id": "d91ecff1-980d-4d5b-96b9-77eab63e2caa",
   "metadata": {},
   "outputs": [
    {
     "data": {
      "image/png": "[encoded data removed]",
      "text/plain": [
       "<Figure size 432x288 with 1 Axes>"
      ]
     },
     "metadata": {
      "needs_background": "light"
     },
     "output_type": "display_data"
    },
    {
     "data": {
      "image/png": "[encoded data removed]",
      "text/plain": [
       "<Figure size 432x288 with 1 Axes>"
      ]
     },
     "metadata": {
      "needs_background": "light"
     },
     "output_type": "display_data"
    },
    {
     "data": {
      "image/png": "[encoded data removed]",
      "text/plain": [
       "<Figure size 432x288 with 1 Axes>"
      ]
     },
     "metadata": {
      "needs_background": "light"
     },
     "output_type": "display_data"
    }
   ],
   "source": [
    "sig = np.load('/data/ana/analyses/greco_online/version-002-p12/IC86_2012.nue_merged.npy')\n",
    "data = np.load('/data/ana/analyses/greco_online/version-002-p12/IC86_2012.data.npy')\n",
    "\n",
    "# Make basic histograms for a few keys\n",
    "KeysToCheck = ['logE', 'ra', 'dec']\n",
    "for key in KeysToCheck:\n",
    "    plt.figure()\n",
    "    plt.title(key)\n",
    "    plt.hist(sig[key]  ,bins=100,color='tab:blue',label='GRECO sig', alpha=0.5)\n",
    "    plt.hist(data[key],bins=100,color='tab:red',label='GRECO data', alpha=0.5)\n",
    "    plt.legend()\n",
    "    plt.show()"
   ]
  },
  {
   "cell_type": "markdown",
   "id": "e8358710-0886-4189-b480-be7385bc3511",
   "metadata": {},
   "source": [
    "Not sure what to learn from this..."
   ]
  },
  {
   "cell_type": "markdown",
   "id": "b2cffdf8-622f-484d-8775-4678f319907e",
   "metadata": {},
   "source": [
    "# Creating fake GRL"
   ]
  },
  {
   "cell_type": "code",
   "execution_count": null,
   "id": "0f49df0a-9309-4da3-9b18-e4df37b859bc",
   "metadata": {},
   "outputs": [],
   "source": [
    "current_mjd = 60369\n",
    "runstart = 135328\n",
    "run_duration = 1/3 #8h\n",
    "nr_runs = 2000\n",
    "background_event_rate = 0.004586764119128693 #1/s\n",
    "background_events = int(np.round(background_event_rate * (run_duration*24*60*60),0))\n",
    "\n",
    "new_grl_entries = []\n",
    "dtype = [('run', int), ('start', np.float64), ('stop', np.float64), ('livetime', np.float64), ('events', int)]\n",
    "for i in range(runstart, runstart+nr_runs+1):  \n",
    "    new_grl_entries.append((i, current_mjd, current_mjd + run_duration, run_duration, background_events))  \n",
    "    current_mjd += run_duration\n",
    "\n",
    "grl = np.array(new_grl_entries, dtype=dtype)\n",
    "np.save('queso_fake_GRL.npy',grl)"
   ]
  },
  {
   "cell_type": "markdown",
   "id": "3702c609-f687-4b87-8139-ce028615df6b",
   "metadata": {},
   "source": [
    "# Background estimation in csky"
   ]
  },
  {
   "cell_type": "markdown",
   "id": "6dafa34d-7dc0-45e3-91f2-b1564b87e6fa",
   "metadata": {},
   "source": [
    "## using our QUESO files"
   ]
  },
  {
   "cell_type": "code",
   "execution_count": 15,
   "id": "857c3a82-69a3-4dd6-84d0-f4d8981c2c99",
   "metadata": {},
   "outputs": [
    {
     "name": "stdout",
     "output_type": "stream",
     "text": [
      "Reading /home/mdittmer/Basics/ConvertedQuesoFiles_new/queso_120028.npy ...\n",
      "Reading /home/mdittmer/Basics/ConvertedQuesoFiles_new/queso_121028.npy ...\n",
      "Reading /home/mdittmer/Basics/ConvertedQuesoFiles_new/queso_140028.npy ...\n",
      "Reading /home/mdittmer/Basics/ConvertedQuesoFiles_new/queso_141028.npy ...\n",
      "Reading /home/mdittmer/Basics/ConvertedQuesoFiles_new/queso_160028.npy ...\n",
      "Reading /home/mdittmer/Basics/ConvertedQuesoFiles_new/queso_161028.npy ...\n",
      "Reading /home/mdittmer/csky/Queso_Fakedata_3Years.npy ...\n",
      "Reading /home/mdittmer/csky/queso_fake_GRL.npy ...\n",
      "Dataset('GRECO_IC86_2012_2019', livetime = 57628800s) with 770388 data events and no background MC loaded and sum(ow*E^-2) = 6.45\n"
     ]
    }
   ],
   "source": [
    "import csky as cy\n",
    "\n",
    "# Create an instance of the GRECO_IC86_2012_2019 class\n",
    "queso_spec = cy.selections.GRECOOnlineDataSpecs.GRECO_IC86_2012_2019()\n",
    "\n",
    "# Set file paths to load in our QUESO files. A proper class will be written for this\n",
    "queso_spec.path_sig = [\n",
    "    '/home/mdittmer/Basics/ConvertedQuesoFiles_new/queso_120028.npy',\n",
    "    \"/home/mdittmer/Basics/ConvertedQuesoFiles_new/queso_121028.npy\",\n",
    "    \"/home/mdittmer/Basics/ConvertedQuesoFiles_new/queso_140028.npy\",\n",
    "    \"/home/mdittmer/Basics/ConvertedQuesoFiles_new/queso_141028.npy\",\n",
    "    \"/home/mdittmer/Basics/ConvertedQuesoFiles_new/queso_160028.npy\",\n",
    "    \"/home/mdittmer/Basics/ConvertedQuesoFiles_new/queso_161028.npy\",\n",
    "    #\"/home/mdittmer/Basics/ConvertedQuesoFiles_new/muongun_131028.npy\"\n",
    "]\n",
    "queso_spec.path_data = [\n",
    "    '/home/mdittmer/csky/Queso_Fakedata_3Years.npy'\n",
    "]\n",
    "queso_spec.path_grls = [\n",
    "    '/home/mdittmer/csky/queso_fake_GRL.npy'\n",
    "]\n",
    "\n",
    "\n",
    "# Call the load method to load the data\n",
    "dataset = queso_spec.load(cy.selections.repo)\n",
    "\n",
    "# Access the loaded data\n",
    "print(dataset)"
   ]
  },
  {
   "cell_type": "code",
   "execution_count": 16,
   "id": "62fca343-221f-4210-8d72-3f7826712dee",
   "metadata": {},
   "outputs": [],
   "source": [
    "cy.CONF['ana'] = ana\n",
    "cy.CONF['mp_cpus'] = 3\n",
    "\n",
    "src = cy.sources(180, 0, deg=True)\n",
    "tr = cy.get_trial_runner(src=src)"
   ]
  },
  {
   "cell_type": "code",
   "execution_count": 20,
   "id": "ad538b8a-19db-4b2f-8be8-fb398f4a0ee4",
   "metadata": {},
   "outputs": [
    {
     "name": "stdout",
     "output_type": "stream",
     "text": [
      "Performing 1000 background trials using 3 cores:\n",
      "       1000/1000 trials complete.   \n"
     ]
    }
   ],
   "source": [
    "bg = cy.dists.Chi2TSD(tr.get_many_fits(1000))"
   ]
  },
  {
   "cell_type": "code",
   "execution_count": 21,
   "id": "3c6afdbf-e528-4e1b-b076-8ec121bd66be",
   "metadata": {},
   "outputs": [
    {
     "name": "stderr",
     "output_type": "stream",
     "text": [
      "/mnt/ceph1-npx/user/mdittmer/software/csky_env/lib/python3.6/site-packages/numpy/core/_asarray.py:83: UserWarning: Warning: converting a masked element to nan.\n",
      "  return array(a, dtype, copy=False, order=order)\n"
     ]
    },
    {
     "data": {
      "image/png": "[encoded data removed]",
      "text/plain": [
       "<Figure size 432x288 with 1 Axes>"
      ]
     },
     "metadata": {
      "needs_background": "light"
     },
     "output_type": "display_data"
    }
   ],
   "source": [
    "fig, ax = plt.subplots()\n",
    "\n",
    "# csky uses histlite all over the place for PDF management\n",
    "# the background distribution fit integrates with histlite as well\n",
    "h = bg.get_hist(bins=50)\n",
    "hl.plot1d(ax, h, crosses=True,\n",
    "          label='{} bg trials'.format(bg.n_total))\n",
    "\n",
    "# compare with the chi2 fit:\n",
    "x = h.centers[0]\n",
    "norm = h.integrate().values\n",
    "ax.semilogy(x, norm * bg.pdf(x), lw=1, ls='--',\n",
    "            label=r'$\\chi^2[{:.2f}\\mathrm{{dof}},\\ \\eta={:.3f}]$'.format(bg.ndof, bg.eta))\n",
    "\n",
    "# always label your plots, folks\n",
    "ax.set_xlabel(r'TS')\n",
    "ax.set_ylabel(r'number of trials')\n",
    "ax.legend()\n",
    "plt.title('QUESO')\n",
    "plt.tight_layout()\n",
    "plt.savefig('TS_Queso.png')"
   ]
  },
  {
   "cell_type": "markdown",
   "id": "61fe9219-78b9-4938-89ea-bdd82a30c216",
   "metadata": {},
   "source": [
    "## Using ESTES approach"
   ]
  },
  {
   "cell_type": "markdown",
   "id": "03639f59-a387-4dc3-ba6c-88923e37dd5f",
   "metadata": {},
   "source": [
    "In the 2022 ESTES analysis, we found that they have the option to use mc data as bg which we tried to adapt for our needs.\n",
    "\n",
    "https://github.com/icecube/wg-nu-sources/blob/main/2022_ESTES_Analyses/NSScripts_csky/csky_allsky_bgts.py#L70"
   ]
  },
  {
   "cell_type": "raw",
   "id": "6e2dbec3-278e-4efd-a6b0-c61fbe3ad8c7",
   "metadata": {},
   "source": [
    "In csky/selection.py we create our own repo (this will be done for the data above as well):\n",
    "\n",
    "class QUESODataSpecs(object):\n",
    "  class QUESODataSpec(CascadeSpec):\n",
    "      _bins_sindec = np.linspace(-1, 1, 26)\n",
    "      _bins_logenergy = np.linspace(0., 4., 26)\n",
    "      _keep = 'mjd true_energy oneweight run event subevent astro_weight atmo_weight muon_weight bg_weight'.split()\n",
    "      _keep32 = 'azimuth ra dec energy sigma dist true_ra true_dec xdec xra astro_weight atmo_weight muon_weight bg_weight'.split()\n",
    "  class QUESO(QUESODataSpec):\n",
    "      _path_sig = ['/data/user/bschlueter/software/nusources_dataset_converters/data/QUESO_MC_all_combined_without_muongun.npy',]\n",
    "      _path_data = ['/data/user/bschlueter/software/nusources_dataset_converters/data/Queso_Fakedata_3Years.npy',]\n",
    "      _path_grls = ['/data/user/bschlueter/software/nusources_dataset_converters/data/QUESO_fake_GRL.npy',]\n",
    "        \n",
    "  QUESO = [QUESO]"
   ]
  },
  {
   "cell_type": "code",
   "execution_count": 2,
   "id": "ad56ab6b-77aa-4ad1-a305-7442919873f8",
   "metadata": {},
   "outputs": [
    {
     "name": "stdout",
     "output_type": "stream",
     "text": [
      "Setting up Analysis for:\n",
      "QUESO\n",
      "Setting up QUESO...\n",
      "Reading /data/user/bschlueter/software/nusources_dataset_converters/data/QUESO_MC_all_combined_without_muongun.npy ...\n",
      "Reading /data/user/bschlueter/software/nusources_dataset_converters/data/Queso_Fakedata_3Years.npy ...\n",
      "Reading /data/user/bschlueter/software/nusources_dataset_converters/data/QUESO_fake_GRL.npy ...\n",
      "Energy PDF Ratio Model...\n",
      "  * gamma = 4.0000 ...\n",
      "Signal Acceptance Model...\n",
      "  * gamma = 4.0000 ...\n",
      "Done.\n"
     ]
    }
   ],
   "source": [
    "use_mcbg = True\n",
    "n_trials  = 1000\n",
    "n_cpu     = 1\n",
    "\n",
    "timer = cy.timing.Timer()\n",
    "time  = timer.time\n",
    "\n",
    "#load dataset\n",
    "#\n",
    "ana = cy.get_analysis(cy.selections.repo,'version-001-p00',cy.selections.QUESODataSpecs.QUESO,space_bg_kw={'bg_mc_weight':'atmo_weight'},energy_kw = {'bg_mc_weight':'atmo_weight'},load_sig=True)\n",
    "\n",
    "cy.CONF['ana']     = ana\n",
    "cy.CONF['mp_cpus'] = n_cpu\n",
    "\n",
    "\n",
    "#create the source object for checking at a given declination\n",
    "src  = cy.sources(180, 0, deg=True)\n",
    "\n",
    "#set randomization settings for the data injectors\n",
    "if use_mcbg:\n",
    "    #use mc to model background\n",
    "    #scramble declination using reconstructed ang error, sigma, for bg trials\n",
    "    inj_conf =  {'bg_weight_names':['atmo_weight'],\n",
    "                 'randomize'      :['ra', 'dec']}\n",
    "    update_bg = False\n",
    "else:\n",
    "    #use data to model background\n",
    "    #scramble declination using perscribed randomization width for bg trials\n",
    "    inj_conf =  {'randomize':['ra', 'dec']}\n",
    "    inj_conf = {'randomize': ['ra', cy.inj.DecRandomizer],\n",
    "                'sindec_bandwidth': np.radians(5),\n",
    "                'dec_rand_method': 'gaussian_fixed',\n",
    "                'dec_rand_kwargs': dict(randomization_width=np.radians(3)),\n",
    "                'dec_rand_pole_exlusion': np.radians(8)}\n",
    "    update_bg = True\n",
    "tr = cy.get_trial_runner(inj_conf = inj_conf,\n",
    "                         src = src, \n",
    "                         update_bg = update_bg)\n"
   ]
  },
  {
   "cell_type": "code",
   "execution_count": null,
   "id": "a000c68f-f79f-429d-a8ae-3fb0e16b539b",
   "metadata": {},
   "outputs": [
    {
     "name": "stdout",
     "output_type": "stream",
     "text": [
      "Performing 1000 background trials using 1 core:\n",
      "        600/1000 trials complete..."
     ]
    }
   ],
   "source": [
    "bg = cy.dists.Chi2TSD(tr.get_many_fits(1000))"
   ]
  },
  {
   "cell_type": "code",
   "execution_count": 4,
   "id": "c6c9b5af-fdd0-4a77-8ddd-bf43e006fd73",
   "metadata": {},
   "outputs": [
    {
     "name": "stderr",
     "output_type": "stream",
     "text": [
      "/mnt/ceph1-npx/user/mdittmer/software/csky_env/lib/python3.6/site-packages/numpy/core/_asarray.py:83: UserWarning: Warning: converting a masked element to nan.\n",
      "  return array(a, dtype, copy=False, order=order)\n"
     ]
    },
    {
     "data": {
      "image/png": "[encoded data removed]",
      "text/plain": [
       "<Figure size 432x288 with 1 Axes>"
      ]
     },
     "metadata": {
      "needs_background": "light"
     },
     "output_type": "display_data"
    }
   ],
   "source": [
    "fig, ax = plt.subplots()\n",
    "\n",
    "# csky uses histlite all over the place for PDF management\n",
    "# the background distribution fit integrates with histlite as well\n",
    "h = bg.get_hist(bins=50)\n",
    "hl.plot1d(ax, h, crosses=True,\n",
    "          label='{} bg trials'.format(bg.n_total))\n",
    "\n",
    "# compare with the chi2 fit:\n",
    "x = h.centers[0]\n",
    "norm = h.integrate().values\n",
    "ax.semilogy(x, norm * bg.pdf(x), lw=1, ls='--',\n",
    "            label=r'$\\chi^2[{:.2f}\\mathrm{{dof}},\\ \\eta={:.3f}]$'.format(bg.ndof, bg.eta))\n",
    "\n",
    "# always label your plots, folks\n",
    "ax.set_xlabel(r'TS')\n",
    "ax.set_ylabel(r'number of trials')\n",
    "ax.legend()\n",
    "plt.title('QUESO ESTES')\n",
    "plt.tight_layout()\n",
    "plt.savefig('TS_Queso_estes.png')"
   ]
  },
  {
   "cell_type": "markdown",
   "id": "08137d5c-a00c-4498-b809-e80dca9761bf",
   "metadata": {},
   "source": [
    "## Greco comparison"
   ]
  },
  {
   "cell_type": "code",
   "execution_count": 7,
   "id": "2b26523d-097f-4012-b11b-3a2edf14d6e4",
   "metadata": {},
   "outputs": [
    {
     "name": "stdout",
     "output_type": "stream",
     "text": [
      "Setting up Analysis for:\n",
      "GRECO_IC86_2012_2019\n",
      "Setting up GRECO_IC86_2012_2019...\n",
      "Reading /data/ana/analyses/greco_online/version-002-p10/IC86_2012.nue_merged.npy ...\n",
      "Reading /data/ana/analyses/greco_online/version-002-p10/IC86_2012.numu_merged.npy ...\n",
      "Reading /data/ana/analyses/greco_online/version-002-p10/IC86_2012.nutau_merged.npy ...\n",
      "Reading /data/ana/analyses/greco_online/version-002-p10/IC86_2012.data.npy ...\n",
      "Reading /data/ana/analyses/greco_online/version-002-p10/IC86_2013.data.npy ...\n",
      "Reading /data/ana/analyses/greco_online/version-002-p10/IC86_2014.data.npy ...\n",
      "Reading /data/ana/analyses/greco_online/version-002-p10/IC86_2015.data.npy ...\n",
      "Reading /data/ana/analyses/greco_online/version-002-p10/IC86_2016.data.npy ...\n",
      "Reading /data/ana/analyses/greco_online/version-002-p10/IC86_2017.data.npy ...\n",
      "Reading /data/ana/analyses/greco_online/version-002-p10/IC86_2018.data.npy ...\n",
      "Reading /data/ana/analyses/greco_online/version-002-p10/IC86_2019.data.npy ...\n",
      "Reading /data/ana/analyses/greco_online/version-002-p10/GRL/IC86_2012.data.npy ...\n",
      "Reading /data/ana/analyses/greco_online/version-002-p10/GRL/IC86_2013.data.npy ...\n",
      "Reading /data/ana/analyses/greco_online/version-002-p10/GRL/IC86_2014.data.npy ...\n",
      "Reading /data/ana/analyses/greco_online/version-002-p10/GRL/IC86_2015.data.npy ...\n",
      "Reading /data/ana/analyses/greco_online/version-002-p10/GRL/IC86_2016.data.npy ...\n",
      "Reading /data/ana/analyses/greco_online/version-002-p10/GRL/IC86_2017.data.npy ...\n",
      "Reading /data/ana/analyses/greco_online/version-002-p10/GRL/IC86_2018.data.npy ...\n",
      "Reading /data/ana/analyses/greco_online/version-002-p10/GRL/IC86_2019.data.npy ...\n",
      "<- /home/mdittmer/csky/Greco_repo//GRECO_IC86_2012_2019.subanalysis.version-002-p10.npy    \n",
      "Done.\n",
      "-> /home/mdittmer/csky/Greco_repo//GRECO_IC86_2012_2019.subanalysis.version-002-p10.npy    \n"
     ]
    }
   ],
   "source": [
    "#read in greco\n",
    "ana_dir = '/home/mdittmer/csky/Greco_repo/'\n",
    "if os.path.exists(ana_dir) == False:\n",
    "    os.mkdir(ana_dir)\n",
    "\n",
    "ana_dir = cy.utils.ensure_dir(ana_dir)\n",
    "\n",
    "ana = cy.get_analysis(\n",
    "    cy.selections.repo,\n",
    "    'version-002-p10',\n",
    "    cy.selections.GRECOOnlineDataSpecs.GRECO_IC86_2012_2019,\n",
    "    dir=ana_dir)\n",
    "ana.save(ana_dir)"
   ]
  },
  {
   "cell_type": "code",
   "execution_count": 8,
   "id": "99329dbb-256c-42f2-875c-6a24fc13ffe3",
   "metadata": {},
   "outputs": [],
   "source": [
    "cy.CONF['ana'] = ana\n",
    "cy.CONF['mp_cpus'] = 3\n",
    "\n",
    "src = cy.sources(180, 0, deg=True)\n",
    "tr = cy.get_trial_runner(src=src)\n",
    "\n"
   ]
  },
  {
   "cell_type": "code",
   "execution_count": 12,
   "id": "fc2c8cb5-bfbe-4390-9346-b607fec8879f",
   "metadata": {},
   "outputs": [
    {
     "name": "stdout",
     "output_type": "stream",
     "text": [
      "Performing 1000 background trials using 3 cores:\n",
      "       1000/1000 trials complete.   \n"
     ]
    }
   ],
   "source": [
    "bg = cy.dists.Chi2TSD(tr.get_many_fits(1000))"
   ]
  },
  {
   "cell_type": "code",
   "execution_count": 13,
   "id": "5fd8391f-7eb0-4351-b03c-45c387fedd27",
   "metadata": {},
   "outputs": [
    {
     "name": "stderr",
     "output_type": "stream",
     "text": [
      "/mnt/ceph1-npx/user/mdittmer/software/csky_env/lib/python3.6/site-packages/numpy/core/_asarray.py:83: UserWarning: Warning: converting a masked element to nan.\n",
      "  return array(a, dtype, copy=False, order=order)\n"
     ]
    },
    {
     "data": {
      "image/png": "[encoded data removed]",
      "text/plain": [
       "<Figure size 432x288 with 1 Axes>"
      ]
     },
     "metadata": {
      "needs_background": "light"
     },
     "output_type": "display_data"
    }
   ],
   "source": [
    "fig, ax = plt.subplots()\n",
    "\n",
    "# csky uses histlite all over the place for PDF management\n",
    "# the background distribution fit integrates with histlite as well\n",
    "h = bg.get_hist(bins=50)\n",
    "hl.plot1d(ax, h, crosses=True,\n",
    "          label='{} bg trials'.format(bg.n_total))\n",
    "\n",
    "# compare with the chi2 fit:\n",
    "x = h.centers[0]\n",
    "norm = h.integrate().values\n",
    "ax.semilogy(x, norm * bg.pdf(x), lw=1, ls='--',\n",
    "            label=r'$\\chi^2[{:.2f}\\mathrm{{dof}},\\ \\eta={:.3f}]$'.format(bg.ndof, bg.eta))\n",
    "\n",
    "# always label your plots, folks\n",
    "ax.set_xlabel(r'TS')\n",
    "ax.set_ylabel(r'number of trials')\n",
    "ax.legend()\n",
    "plt.title('GRECO')\n",
    "plt.tight_layout()\n",
    "plt.savefig('TS_Greco.png')"
   ]
  }
 ],
 "metadata": {
  "kernelspec": {
   "display_name": "csky",
   "language": "python",
   "name": "csky"
  },
  "language_info": {
   "codemirror_mode": {
    "name": "ipython",
    "version": 3
   },
   "file_extension": ".py",
   "mimetype": "text/x-python",
   "name": "python",
   "nbconvert_exporter": "python",
   "pygments_lexer": "ipython3",
   "version": "3.6.8"
  }
 },
 "nbformat": 4,
 "nbformat_minor": 5
}
