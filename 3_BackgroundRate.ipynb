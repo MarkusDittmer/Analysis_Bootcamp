{
 "cells": [
  {
   "cell_type": "code",
   "execution_count": 49,
   "id": "f16f83b0-b078-421f-ae66-612cfb4dec06",
   "metadata": {},
   "outputs": [],
   "source": [
    "import os, sys, glob\n",
    "import numpy as np\n",
    "from matplotlib import pyplot as plt\n",
    "import h5py\n",
    "import pandas as pd"
   ]
  },
  {
   "cell_type": "markdown",
   "id": "3f70b4d4-3a21-485e-89c1-21c88b14e4cb",
   "metadata": {},
   "source": [
    "# Kareems code"
   ]
  },
  {
   "cell_type": "markdown",
   "id": "378a3c5e-d5f7-4776-836d-1f2f951289e9",
   "metadata": {},
   "source": [
    "For each flavor: Sum over I3MCWeightDict.weight where QuesoL4_Bool==1 and add all 6 flavor rates\n",
    "\n",
    "This converter was used: https://github.com/icecube/wg-oscillations-fridge/blob/75fd22ff047f93023617bf794ff237bbcdd50033/processing/samples/icu/old/processing/icu_i3_to_hdf5.py\n",
    "\n",
    "This corresponds to this file /data/sim/IceCubeUpgrade/pisa/level4_queso_v00/ICU_pisa_genie_028_level4_queso_v00.hdf5"
   ]
  },
  {
   "cell_type": "code",
   "execution_count": 68,
   "id": "ff5a4f23-0165-401d-af32-a5025e0bf75f",
   "metadata": {},
   "outputs": [
    {
     "name": "stdout",
     "output_type": "stream",
     "text": [
      "Available keys: ['nue_cc', 'nue_nc', 'nuebar_cc', 'nuebar_nc', 'numu_cc', 'numu_nc', 'numubar_cc', 'numubar_nc', 'nutau_cc', 'nutau_nc', 'nutaubar_cc', 'nutaubar_nc']\n"
     ]
    }
   ],
   "source": [
    "def get_pds_aeff_upgrade(flavour):\n",
    "    result=pd.DataFrame(np.array([\n",
    "        GrecoQuesoAeff[flavour]['MCInIcePrimary.energy'][:][:],\n",
    "    GrecoQuesoAeff[flavour]['MCInIcePrimary.dir.coszen'][:][:],\n",
    "    GrecoQuesoAeff[flavour]['weighted_aeff'][:][:],\n",
    "    GrecoQuesoAeff[flavour]['QuesoL4_Bool'][:][:],\n",
    "    GrecoQuesoAeff[flavour]['I3MCWeightDict.OneWeight'][:][:],\n",
    "    GrecoQuesoAeff[flavour]['I3GenieInfo.n_flux_events'][:][:],\n",
    "    GrecoQuesoAeff[flavour][\"I3MCWeightDict.weight\"][:][:]\n",
    "    # GrecoQuesoAeff[flavour]['I3GenieInfo.power_law_index'][:][:]\n",
    "    ]).T,\n",
    "    columns=['MCInIcePrimaryEnergy','MCInIcePrimaryCosZenith','WeightedAeff','QuesoL4Bool',\"I3MCWeight\",\"NumEvents\"\n",
    "            # \"PowerLawIndex\"\n",
    "            , \"I3WeightWithModel\"\n",
    "            ])\n",
    "    return result\n",
    "\n",
    "ICUPGRADE_AEFF_HDF5_FILE=\"/cvmfs/icecube.opensciencegrid.org/users/kareem/Upgrade/effective_areas/greco_queso/ICU_pisa_genie_028_level4_queso_v00.hdf5\"\n",
    "#ICUPGRADE_AEFF_HDF5_FILE=\"/data/sim/IceCubeUpgrade/pisa/level4_queso_v00/ICU_pisa_genie_028_level4_queso_v00.hdf5\" #he seems to have copied this file\n",
    "\n",
    "GrecoQuesoAeff=h5py.File(ICUPGRADE_AEFF_HDF5_FILE)\n",
    "\n",
    "with h5py.File(ICUPGRADE_AEFF_HDF5_FILE, \"r\") as file:\n",
    "    keys = list(file.keys())\n",
    "    print(\"Available keys:\", keys)"
   ]
  },
  {
   "cell_type": "code",
   "execution_count": 69,
   "id": "7cc7fdcb-b1b3-41d8-be1e-1fbd0f78c388",
   "metadata": {},
   "outputs": [
    {
     "name": "stdout",
     "output_type": "stream",
     "text": [
      "rate_nueCC:\t1.35 mHz\n",
      "rate_nueNC:\t0.12 mHz\n",
      "rate_numuCC:\t2.65 mHz\n",
      "rate_numuNC:\t0.34 mHz\n",
      "rate_nutauCC:\t0.12 mHz\n",
      "rate_nutauNC:\t0.10 mHz\n",
      "Background rate for all flavors: 4.68 mHz\n"
     ]
    }
   ],
   "source": [
    "#create dataframe from .hdf5 file\n",
    "nue_cc_df=get_pds_aeff_upgrade('nue_cc');\n",
    "nue_nc_df=get_pds_aeff_upgrade('nue_nc');\n",
    "numu_cc_df=get_pds_aeff_upgrade('numu_cc')\n",
    "numu_nc_df=get_pds_aeff_upgrade('numu_nc');\n",
    "nutau_cc_df=nutau_cc_df=get_pds_aeff_upgrade('nutau_cc');\n",
    "nutau_nc_df=get_pds_aeff_upgrade('nutau_nc');\n",
    "\n",
    "#calculate rates\n",
    "rate_nueCC=np.sum((nue_cc_df[nue_cc_df[\"QuesoL4Bool\"]==1])[\"I3WeightWithModel\"])\n",
    "rate_nueNC=np.sum((nue_nc_df[nue_nc_df[\"QuesoL4Bool\"]==1])[\"I3WeightWithModel\"])\n",
    "rate_numuCC=np.sum((numu_cc_df[numu_cc_df[\"QuesoL4Bool\"]==1])[\"I3WeightWithModel\"])\n",
    "rate_numuNC=np.sum((numu_nc_df[numu_nc_df[\"QuesoL4Bool\"]==1])[\"I3WeightWithModel\"])\n",
    "rate_nutauCC=np.sum((nutau_cc_df[nutau_cc_df[\"QuesoL4Bool\"]==1])[\"I3WeightWithModel\"])\n",
    "rate_nutauNC=np.sum((nutau_nc_df[nutau_nc_df[\"QuesoL4Bool\"]==1])[\"I3WeightWithModel\"])\n",
    "\n",
    "#print results\n",
    "rate_all=[rate_nueCC,rate_nueNC,rate_numuCC,rate_numuNC,rate_nutauCC,rate_nutauNC]\n",
    "for r in rate_all:\n",
    "    var_name = [name for name, value in locals().items() if value is r][0]\n",
    "    print(f\"{var_name}:\\t{r*1000:.2f} mHz\")\n",
    "print(\"Background rate for all flavors: %1.2f mHz\"%(sum(rate_all) * 1000))"
   ]
  },
  {
   "cell_type": "markdown",
   "id": "723252aa-e651-447d-bbd6-23a5095839e1",
   "metadata": {},
   "source": [
    "# Our code"
   ]
  },
  {
   "cell_type": "markdown",
   "id": "69ccd4b7-8fb2-4c81-8d9f-7b4a7f2e61a2",
   "metadata": {},
   "source": [
    "Queso file were prior converted vom .i3 to .npy using https://github.com/mjlarson/nusources_dataset_converters/tree/main\n",
    "\n",
    "In there:\n",
    "- QuesoL4_Bool is applied (line 76)\n",
    "- mcweightdict = I3MCWeightDict (line 86)\n",
    "- atmo_weight = mcweightdict['weight'] (line 186)\n",
    "\n",
    "Differences to Kareem:\n",
    "- For us: QuesoL3_Bool and QuesoL3_Vars_cleaned_num_hits_fid_vol >= 7 applied as well (line 75 & 77). Applying these in Kareems code does not change much.\n",
    "- Different dataformat: He is using /data/sim/IceCubeUpgrade/pisa/level4_queso_v00/ICU_pisa_genie_028_level4_queso_v00.hdf5 and we are using /data/sim/IceCubeUpgrade/genie/level4_queso/...\n",
    "- He does not use anti particles i.e. nuebar_cc"
   ]
  },
  {
   "cell_type": "code",
   "execution_count": 74,
   "id": "8841b873-ddef-4683-8931-f456a00098e0",
   "metadata": {},
   "outputs": [],
   "source": [
    "queso_e_only = np.load(\"/home/mdittmer/Basics/ConvertedQuesoFiles/upgrade_queso_120028.npy\")\n",
    "queso_e_only_CC = queso_e_only[queso_e_only['interaction']==1]\n",
    "queso_e_only_NC = queso_e_only[queso_e_only['interaction']==2]\n",
    "\n",
    "queso_ebar_only = np.load(\"/home/mdittmer/Basics/ConvertedQuesoFiles/upgrade_queso_121028.npy\")\n",
    "queso_ebar_only_CC = queso_ebar_only[queso_ebar_only['interaction']==1]\n",
    "queso_ebar_only_NC = queso_ebar_only[queso_ebar_only['interaction']==2]\n",
    "\n",
    "queso_mu_only = np.load(\"/home/mdittmer/Basics/ConvertedQuesoFiles/upgrade_queso_140028.npy\")\n",
    "queso_mu_only_CC = queso_mu_only[queso_mu_only['interaction']==1]\n",
    "queso_mu_only_NC = queso_mu_only[queso_mu_only['interaction']==2]\n",
    "\n",
    "queso_mubar_only = np.load(\"/home/mdittmer/Basics/ConvertedQuesoFiles/upgrade_queso_141028.npy\")\n",
    "queso_mubar_only_CC = queso_mubar_only[queso_mubar_only['interaction']==1]\n",
    "queso_mubar_only_NC = queso_mubar_only[queso_mubar_only['interaction']==2]\n",
    "\n",
    "queso_tau_only = np.load(\"/home/mdittmer/Basics/ConvertedQuesoFiles/upgrade_queso_160028.npy\")\n",
    "queso_tau_only_CC = queso_tau_only[queso_tau_only['interaction']==1]\n",
    "queso_tau_only_NC = queso_tau_only[queso_tau_only['interaction']==2]\n",
    "\n",
    "queso_taubar_only = np.load(\"/home/mdittmer/Basics/ConvertedQuesoFiles/upgrade_queso_161028.npy\")\n",
    "queso_taubar_only_CC = queso_taubar_only[queso_taubar_only['interaction']==1]\n",
    "queso_taubar_only_NC = queso_taubar_only[queso_taubar_only['interaction']==2]"
   ]
  },
  {
   "cell_type": "markdown",
   "id": "6d533293-5935-455b-b846-304300895bbe",
   "metadata": {},
   "source": [
    "#### Let us not use anti neutrinos as above and recreate the same scenario as Kareem.\n",
    "We manually divide by the number of files in /data/sim/IceCubeUpgrade/genie/level4_queso/XXX/ (400 for $\\bar{\\nu}_\\tau$, 500 for $\\bar{\\nu}_\\mu$, 1000 for the rest). \n",
    "\n",
    "We modified the converter script later on to do that directly (below)"
   ]
  },
  {
   "cell_type": "code",
   "execution_count": 85,
   "id": "7d2eef74-476d-4bf2-bffb-b1d0dabc3b74",
   "metadata": {},
   "outputs": [
    {
     "name": "stdout",
     "output_type": "stream",
     "text": [
      "rate_nueCC:\t11.27 mHz\n",
      "rate_nueNC:\t1.00 mHz\n",
      "rate_numuCC:\t22.32 mHz\n",
      "rate_numuNC:\t2.89 mHz\n",
      "rate_nutauCC:\t1.60 mHz\n",
      "rate_nutauNC:\t1.28 mHz\n",
      "Background rate for all flavors: 40.36 mHz\n"
     ]
    }
   ],
   "source": [
    "NrFiles=1000\n",
    "rate_nueCC=np.sum(queso_e_only_CC['atmo_weight']/NrFiles)\n",
    "rate_nueNC=np.sum(queso_e_only_NC['atmo_weight']/NrFiles)\n",
    "rate_numuCC=np.sum(queso_mu_only_CC['atmo_weight']/NrFiles)\n",
    "rate_numuNC=np.sum(queso_mu_only_NC['atmo_weight']/NrFiles)\n",
    "rate_nutauCC=np.sum(queso_tau_only_CC['atmo_weight']/NrFiles)\n",
    "rate_nutauNC=np.sum(queso_tau_only_NC['atmo_weight']/NrFiles)\n",
    "\n",
    "rate_all=[rate_nueCC,rate_nueNC,rate_numuCC,rate_numuNC,rate_nutauCC,rate_nutauNC]\n",
    "for r in rate_all:\n",
    "    var_name = [name for name, value in locals().items() if value is r][0]\n",
    "    print(f\"{var_name}:\\t{r*1000:.2f} mHz\")\n",
    "print(\"Background rate for all flavors: %1.2f mHz\"%(sum(rate_all) * 1000))"
   ]
  },
  {
   "cell_type": "markdown",
   "id": "b0750ecd-56fe-4da3-8a86-c486b47d873b",
   "metadata": {},
   "source": [
    "#### We land at 40.36 mHz as our final result and 24.38 mHz for anti neutrinos.\n",
    "Did you ever calculate the background rate? We don't know what to expect."
   ]
  },
  {
   "cell_type": "markdown",
   "id": "3ade1f00-c511-4569-a5a7-5ac5a842bbe9",
   "metadata": {},
   "source": [
    "#### Modiying the converter script and just test $\\nu_\\mu^{CC}$: \n",
    "- weight_2 = mcweightdict['weight']/(nevents*args.nfiles). This is just wrong and desperate.\n",
    "- weight_3 = mcweightdict['weight']/(args.nfiles). This yields the same result as above which we thought is correct in principle."
   ]
  },
  {
   "cell_type": "code",
   "execution_count": 87,
   "id": "7728a0ef-9f6e-44b8-9803-f8cf438efd70",
   "metadata": {},
   "outputs": [
    {
     "name": "stdout",
     "output_type": "stream",
     "text": [
      "Background rate for rate_numuCC using  atmo_weight/(nevents*args.nfiles): 0.00 mHz\n",
      "Background rate for rate_numuCC using  atmo_weight/(nevents): \t \t 0.52 mHz\n",
      "Background rate for rate_numuCC using  atmo_weight/args.nfiles: \t 22.32 mHz (same as above)\n",
      "Corresponding value from Kareem: 2.65 mHz\n"
     ]
    }
   ],
   "source": [
    "queso_mu_only_test = np.load(\"/data/user/bschlueter/software/nusources_dataset_converters/datasets/upgrade_queso_140028_test.npy\")\n",
    "queso_mu_only_CC_test = queso_mu_only_test[queso_mu_only_test['interaction']==1]\n",
    "queso_mu_only_NC_test = queso_mu_only_test[queso_mu_only_test['interaction']==2]\n",
    "\n",
    "#M1 = sum(queso_mu_only_CC_test['atmo_weight']) # /1000 nr files * 1000 for mHz\n",
    "M2 = sum(queso_mu_only_CC_test['weight_2'])\n",
    "M3 = sum(queso_mu_only_CC_test['weight3'])\n",
    "\n",
    "#print(\"Background rate for rate_numuCC using just 'atmo_weight': %1.3f mHz\"%(M1))\n",
    "print(\"Background rate for rate_numuCC using  atmo_weight/(nevents*args.nfiles): %1.2f mHz\"%(M2 * 1000))\n",
    "print(\"Background rate for rate_numuCC using  atmo_weight/(nevents): \\t \\t %1.2f mHz\"%(M2 * NrFiles * 1000))\n",
    "print(\"Background rate for rate_numuCC using  atmo_weight/args.nfiles: \\t %1.2f mHz (same as above)\"%(M3 * 1000))\n",
    "print(\"Corresponding value from Kareem: 2.65 mHz\")"
   ]
  },
  {
   "cell_type": "code",
   "execution_count": null,
   "id": "a8430aba-f79f-4e8a-abe1-a1c54ae962df",
   "metadata": {},
   "outputs": [],
   "source": []
  }
 ],
 "metadata": {
  "kernelspec": {
   "display_name": "csky",
   "language": "python",
   "name": "csky"
  },
  "language_info": {
   "codemirror_mode": {
    "name": "ipython",
    "version": 3
   },
   "file_extension": ".py",
   "mimetype": "text/x-python",
   "name": "python",
   "nbconvert_exporter": "python",
   "pygments_lexer": "ipython3",
   "version": "3.6.8"
  }
 },
 "nbformat": 4,
 "nbformat_minor": 5
}
